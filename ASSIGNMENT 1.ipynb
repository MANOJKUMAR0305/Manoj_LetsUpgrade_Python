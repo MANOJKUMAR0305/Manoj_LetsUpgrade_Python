{
 "cells": [
  {
   "cell_type": "markdown",
   "metadata": {},
   "source": [
    "# QUESTION 01:\n"
   ]
  },
  {
   "cell_type": "markdown",
   "metadata": {},
   "source": [
    "**TRY 5 DIFFERENT FUNCTIONS OF THE STRINGS IN PYTHON** \n"
   ]
  },
  {
   "cell_type": "code",
   "execution_count": 4,
   "metadata": {},
   "outputs": [
    {
     "name": "stdout",
     "output_type": "stream",
     "text": [
      "hello guys ! welcome to my world \n"
     ]
    }
   ],
   "source": [
    "Str1 = (\"HELLO GUYS ! WELCOME TO MY WORLD \")\n",
    "a = Str1.casefold()\n",
    "print(a)"
   ]
  },
  {
   "cell_type": "code",
   "execution_count": 5,
   "metadata": {},
   "outputs": [
    {
     "name": "stdout",
     "output_type": "stream",
     "text": [
      "hELLO gUYS! wELCOME tO mY wORLD \n"
     ]
    }
   ],
   "source": [
    "str2 = (\"Hello Guys! Welcome To My World \")\n",
    "a = str2.swapcase()\n",
    "print(a)"
   ]
  },
  {
   "cell_type": "code",
   "execution_count": 11,
   "metadata": {},
   "outputs": [
    {
     "name": "stdout",
     "output_type": "stream",
     "text": [
      "4\n"
     ]
    }
   ],
   "source": [
    "str3 = (\"HELLO GUYS! WELCOME TO MY WORLD\")\n",
    "A = str3.count(\"O\")\n",
    "print(A)\n"
   ]
  },
  {
   "cell_type": "code",
   "execution_count": 13,
   "metadata": {},
   "outputs": [
    {
     "name": "stdout",
     "output_type": "stream",
     "text": [
      "hello guys! I am here to learn python\n"
     ]
    }
   ],
   "source": [
    "str4 = (\"hello guys! {}\")\n",
    "a = str4.format(\"I am here to learn python\")\n",
    "print(a)"
   ]
  },
  {
   "cell_type": "code",
   "execution_count": 16,
   "metadata": {},
   "outputs": [
    {
     "name": "stdout",
     "output_type": "stream",
     "text": [
      " hello guys!welcome to my world\n"
     ]
    }
   ],
   "source": [
    "str5 = (\" hello guys!welcome to my world\")\n",
    "a = str5.lower()\n",
    "print(a)"
   ]
  },
  {
   "cell_type": "markdown",
   "metadata": {},
   "source": [
    "# QUESTION 02:"
   ]
  },
  {
   "cell_type": "markdown",
   "metadata": {},
   "source": [
    "**TRY 5 DIFFERENT FUNCTIONS OF LIST OBJECTS IN PYTHON**"
   ]
  },
  {
   "cell_type": "code",
   "execution_count": 1,
   "metadata": {},
   "outputs": [
    {
     "name": "stdout",
     "output_type": "stream",
     "text": [
      "['manoj', 'kaushik', 'rahul', 'friends']\n"
     ]
    }
   ],
   "source": [
    "lst1 = [\"manoj\",\"kaushik\",\"rahul\"]\n",
    "lst1.append(\"friends\")\n",
    "print(lst1)"
   ]
  },
  {
   "cell_type": "code",
   "execution_count": 2,
   "metadata": {},
   "outputs": [
    {
     "name": "stdout",
     "output_type": "stream",
     "text": [
      "['audi', 'benz', 'ferrari', 'minicooper', 'rangerover']\n"
     ]
    }
   ],
   "source": [
    "lst2 = [\"audi\",\"ferrari\",\"benz\",\"rangerover\",\"minicooper\"]\n",
    "lst2.sort()\n",
    "print(lst2)"
   ]
  },
  {
   "cell_type": "code",
   "execution_count": 3,
   "metadata": {},
   "outputs": [
    {
     "name": "stdout",
     "output_type": "stream",
     "text": [
      "['manoj', 'kaushik', 'rahul']\n"
     ]
    }
   ],
   "source": [
    "lst3 = [\"manoj\",\"kaushik\",\"rahul\",\"bharath\"]\n",
    "lst3.pop(3)\n",
    "print(lst3)"
   ]
  },
  {
   "cell_type": "code",
   "execution_count": 4,
   "metadata": {},
   "outputs": [
    {
     "name": "stdout",
     "output_type": "stream",
     "text": [
      "['school', 'inter', 'engineering', 'masters']\n"
     ]
    }
   ],
   "source": [
    "lst4 = [\"school\",\"inter\"]\n",
    "lst5 = [\"engineering\",\"masters\"]\n",
    "lst4.extend(lst5)\n",
    "print(lst4)"
   ]
  },
  {
   "cell_type": "code",
   "execution_count": 7,
   "metadata": {},
   "outputs": [
    {
     "name": "stdout",
     "output_type": "stream",
     "text": [
      "['kaushika', 'kaushik']\n"
     ]
    }
   ],
   "source": [
    "lst6 = [\"kaushik\"]\n",
    "lst6.insert(0,\"kaushika\")\n",
    "print(lst6)"
   ]
  },
  {
   "cell_type": "markdown",
   "metadata": {},
   "source": [
    "# QUESTION 03 :\n"
   ]
  },
  {
   "cell_type": "markdown",
   "metadata": {},
   "source": [
    "**EXPERIMENT ATLEAST 5 DEFAULT FUNCTIONS OF DICTIONARY**"
   ]
  },
  {
   "cell_type": "code",
   "execution_count": 1,
   "metadata": {},
   "outputs": [
    {
     "name": "stdout",
     "output_type": "stream",
     "text": [
      "{'kaushik', 'rahul', 'manoj'}\n"
     ]
    }
   ],
   "source": [
    "D1 = {\"manoj\",\"rahul\",\"kaushik\"}\n",
    "a = D1.copy()\n",
    "print(a)"
   ]
  },
  {
   "cell_type": "code",
   "execution_count": 7,
   "metadata": {},
   "outputs": [
    {
     "name": "stdout",
     "output_type": "stream",
     "text": [
      "18\n"
     ]
    }
   ],
   "source": [
    "D2 = {\"name\" : \"manoj\",\n",
    "     \"age\" : 18\n",
    "     }      \n",
    "a = D2.get(\"age\")\n",
    "print(a)"
   ]
  },
  {
   "cell_type": "code",
   "execution_count": 11,
   "metadata": {},
   "outputs": [
    {
     "name": "stdout",
     "output_type": "stream",
     "text": [
      "dict_keys(['name', 'age'])\n"
     ]
    }
   ],
   "source": [
    "D3 = {\"name\" : \"manoj\",\n",
    "     \"AGE\" : 18\n",
    "     }\n",
    "     \n",
    "A = D3.keys()\n",
    "print(A)"
   ]
  },
  {
   "cell_type": "code",
   "execution_count": 15,
   "metadata": {},
   "outputs": [
    {
     "name": "stdout",
     "output_type": "stream",
     "text": [
      "{'name': 'manoj'}\n"
     ]
    }
   ],
   "source": [
    "D4 = {\"name\" : \"manoj\",\n",
    "     \"AGE\" : 18\n",
    "     }\n",
    "D4.pop(\"AGE\")\n",
    "print(D4)   "
   ]
  },
  {
   "cell_type": "code",
   "execution_count": 16,
   "metadata": {},
   "outputs": [
    {
     "name": "stdout",
     "output_type": "stream",
     "text": [
      "{'name': 'manoj', 'AGE': 18, 'height': 5.11}\n"
     ]
    }
   ],
   "source": [
    "D5 = {\"name\" : \"manoj\",\n",
    "     \"AGE\" : 18\n",
    "     }\n",
    "D5.update({\"height\" : 5.11})\n",
    "print(D5)\n",
    "     \n"
   ]
  },
  {
   "cell_type": "code",
   "execution_count": null,
   "metadata": {},
   "outputs": [],
   "source": []
  }
 ],
 "metadata": {
  "kernelspec": {
   "display_name": "Python 3",
   "language": "python",
   "name": "python3"
  },
  "language_info": {
   "codemirror_mode": {
    "name": "ipython",
    "version": 3
   },
   "file_extension": ".py",
   "mimetype": "text/x-python",
   "name": "python",
   "nbconvert_exporter": "python",
   "pygments_lexer": "ipython3",
   "version": "3.8.5"
  }
 },
 "nbformat": 4,
 "nbformat_minor": 4
}
